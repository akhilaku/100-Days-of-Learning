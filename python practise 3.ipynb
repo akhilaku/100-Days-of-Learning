{
 "cells": [
  {
   "cell_type": "code",
   "execution_count": 5,
   "metadata": {},
   "outputs": [
    {
     "name": "stdout",
     "output_type": "stream",
     "text": [
      "Enter the username : akhildasks\n",
      "Enter the password : akhildasks123\n",
      "Hello akhildasks your user login is Successfull\n"
     ]
    }
   ],
   "source": [
    "# IF, ELIF AND ELSE in python.\n",
    "\n",
    "username = \"akhildasks\"\n",
    "password = \"akhildasks123\"\n",
    "\n",
    "input_username = str(input(\"Enter the username : \"))\n",
    "input_password = str(input(\"Enter the password : \"))\n",
    "\n",
    "if ((username == input_username) and (password == input_password)):\n",
    "    print(f\"Hello {username} your user login is Successfull\")\n",
    "else:\n",
    "    print(\"your username or password is incorrect!!!\")"
   ]
  },
  {
   "cell_type": "code",
   "execution_count": 1,
   "metadata": {},
   "outputs": [
    {
     "name": "stdout",
     "output_type": "stream",
     "text": [
      "Direct Message Allowed\n"
     ]
    }
   ],
   "source": [
    "#TERNARY OPERATOR\n",
    "\n",
    "# It is writing the IF and ELSE conditions in single line.\n",
    "\n",
    "#QUESTION) if a person in your facebook is your friend he can direct message you else he cant.\n",
    "\n",
    "if_friend = True     #if your FB friend then True or False\n",
    "can_message = \"Direct Message Allowed\" if if_friend else \"Message not alowed\"\n",
    "print(can_message)\n"
   ]
  },
  {
   "cell_type": "code",
   "execution_count": 13,
   "metadata": {},
   "outputs": [
    {
     "name": "stdout",
     "output_type": "stream",
     "text": [
      "False\n",
      "True\n",
      "False\n",
      "True\n",
      "True\n"
     ]
    }
   ],
   "source": [
    "# LOGICAL OPERATORS   < , > , == , != or , and, <=, >=\n",
    "\n",
    "print(4 > 5)\n",
    "\n",
    "print(4 < 5)\n",
    "\n",
    "print(4 == 5)\n",
    "\n",
    "print(4 != 5)\n",
    "\n",
    "a = 5\n",
    "b = 10\n",
    "\n",
    "if(a is not b):\n",
    "    print(\"True\")"
   ]
  },
  {
   "cell_type": "code",
   "execution_count": 20,
   "metadata": {},
   "outputs": [
    {
     "name": "stdout",
     "output_type": "stream",
     "text": [
      "Atleast you are getting there\n"
     ]
    }
   ],
   "source": [
    "# EXERCISE 65.\n",
    "\n",
    "is_magician = True\n",
    "is_expert = False\n",
    "\n",
    "\n",
    "if( is_magician and is_expert):\n",
    "    print(\"You are a master magician\")\n",
    "elif((is_magician == True) and (is_expert == False)):\n",
    "    print(\"Atleast you are getting there\")\n",
    "else:\n",
    "    print(\"You need magic powers\")\n",
    "    \n",
    "    \n",
    "#completed and perfect answer :)"
   ]
  },
  {
   "cell_type": "code",
   "execution_count": 23,
   "metadata": {},
   "outputs": [
    {
     "name": "stdout",
     "output_type": "stream",
     "text": [
      "False\n",
      "True\n",
      "True\n",
      "False\n",
      "True\n",
      "False\n",
      "False\n",
      "False\n",
      "False\n",
      "False\n"
     ]
    }
   ],
   "source": [
    "# just for fun checking silly things.....ie    \"==\" vs \"is\n",
    "\n",
    "#using \"==\"  equal checks for equality and finds whether it is True or False\n",
    "\n",
    "print('' == 1)\n",
    "print([] == [])\n",
    "print(10 == 10.0)\n",
    "print([] == 1)\n",
    "print(True == 1)\n",
    "\n",
    "# using \"is\"  \n",
    "\n",
    "print('' is 1)\n",
    "print([] is [])\n",
    "print(10 is 10.0)\n",
    "print([] is 1)\n",
    "print(True is 1)"
   ]
  },
  {
   "cell_type": "code",
   "execution_count": 1,
   "metadata": {},
   "outputs": [
    {
     "name": "stdout",
     "output_type": "stream",
     "text": [
      "A\n",
      "K\n",
      "H\n",
      "I\n",
      "L\n",
      "D\n",
      "A\n",
      "S\n",
      " \n",
      "K\n",
      "S\n",
      "<--------------------------------------------------------------->\n"
     ]
    }
   ],
   "source": [
    "# lOOPS\n",
    "\n",
    "for i in ('AKHILDAS KS'):\n",
    "    print(i)\n",
    "\n",
    "print(\"<--------------------------------------------------------------->\")\n",
    "\n"
   ]
  },
  {
   "cell_type": "code",
   "execution_count": 2,
   "metadata": {},
   "outputs": [
    {
     "name": "stdout",
     "output_type": "stream",
     "text": [
      "1 a\n",
      "1 b\n",
      "1 c\n",
      "2 a\n",
      "2 b\n",
      "2 c\n",
      "3 a\n",
      "3 b\n",
      "3 c\n",
      "4 a\n",
      "4 b\n",
      "4 c\n",
      "5 a\n",
      "5 b\n",
      "5 c\n",
      "<------------------------------------>\n",
      "1 a\n",
      "1 b\n",
      "1 c\n",
      "2 a\n",
      "2 b\n",
      "2 c\n",
      "3 a\n",
      "3 b\n",
      "3 c\n",
      "4 a\n",
      "4 b\n",
      "4 c\n"
     ]
    }
   ],
   "source": [
    "for i in (1, 2, 3, 4, 5):\n",
    "    for k in [\"a\", \"b\", \"c\"]:\n",
    "        print(i, k)\n",
    "\n",
    "print(\"<------------------------------------>\")       \n",
    "        \n",
    "for j in range(1, 5):\n",
    "    for h in [\"a\", \"b\", \"c\"]:\n",
    "        print(j, h)"
   ]
  },
  {
   "cell_type": "code",
   "execution_count": 19,
   "metadata": {},
   "outputs": [
    {
     "name": "stdout",
     "output_type": "stream",
     "text": [
      "('001', 'AKhil')\n",
      "('002', 'hjsc')\n",
      "('003', 'adks')\n",
      "<---------------------------------------------->\n",
      "001\n",
      "002\n",
      "003\n",
      "<---------------------------------------------->\n",
      "AKhil\n",
      "hjsc\n",
      "adks\n",
      "<==============================================>\n",
      "001 AKhil\n",
      "002 hjsc\n",
      "003 adks\n"
     ]
    }
   ],
   "source": [
    "user = {'001':\"AKhil\", '002':\"hjsc\", \"003\":\"adks\"}\n",
    "\n",
    "for i in user.items():\n",
    "    print(i)\n",
    "    \n",
    "print(\"<---------------------------------------------->\")\n",
    "\n",
    "for i in user.keys():\n",
    "    print(i)\n",
    "    \n",
    "print(\"<---------------------------------------------->\")\n",
    "\n",
    "for i in user.values():\n",
    "    print(i)\n",
    "    \n",
    "print(\"<==============================================>\")\n",
    "\n",
    "for i in user.items():\n",
    "    keys, values = i\n",
    "    print(keys, values)"
   ]
  },
  {
   "cell_type": "code",
   "execution_count": 21,
   "metadata": {},
   "outputs": [
    {
     "name": "stdout",
     "output_type": "stream",
     "text": [
      "1\n",
      "3\n",
      "6\n",
      "10\n",
      "15\n",
      "21\n",
      "28\n",
      "36\n",
      "45\n",
      "55\n"
     ]
    }
   ],
   "source": [
    "#EXERCISE Counter\n",
    "\n",
    "my_list = [1,2,3,4,5,6,7,8,9,10]\n",
    "counter = 0\n",
    "\n",
    "for i in my_list:\n",
    "    counter = counter + i\n",
    "    print(counter)"
   ]
  },
  {
   "cell_type": "code",
   "execution_count": 1,
   "metadata": {},
   "outputs": [
    {
     "name": "stdout",
     "output_type": "stream",
     "text": [
      "2\n",
      "3\n",
      "4\n",
      "5\n",
      "6\n",
      "7\n",
      "8\n",
      "9\n",
      "10\n",
      "11\n",
      "Akhildas\n",
      "Akhildas\n",
      "Akhildas\n",
      "Akhildas\n",
      "Akhildas\n",
      "To print reverse\n",
      "12\n",
      "11\n",
      "10\n",
      "9\n",
      "8\n",
      "7\n",
      "6\n",
      "5\n",
      "4\n",
      "3\n"
     ]
    }
   ],
   "source": [
    "# Range()\n",
    "\n",
    "i = 0\n",
    "for i in range(10):\n",
    "    i = i + 2\n",
    "    print(i)\n",
    "\n",
    "    \n",
    "for k in range(5):\n",
    "    print(\"Akhildas\")\n",
    "  \n",
    "print(\"To print reverse\")\n",
    "i = 0\n",
    "for i in range(10, 0 , -1):\n",
    "    i = i + 2\n",
    "    print(i)\n"
   ]
  },
  {
   "cell_type": "code",
   "execution_count": 4,
   "metadata": {},
   "outputs": [
    {
     "name": "stdout",
     "output_type": "stream",
     "text": [
      "0 A\n",
      "1 K\n",
      "2 H\n",
      "3 I\n",
      "4 L\n",
      "5 D\n",
      "6 A\n",
      "7 S\n",
      "8  \n",
      "9 K\n",
      "10 S\n"
     ]
    }
   ],
   "source": [
    "#enumerate()        it is used to print the characters along with the indexes\n",
    "\n",
    "for i, name in enumerate('AKHILDAS KS'):\n",
    "    print(i, name)"
   ]
  },
  {
   "cell_type": "code",
   "execution_count": 5,
   "metadata": {},
   "outputs": [
    {
     "name": "stdout",
     "output_type": "stream",
     "text": [
      "0\n"
     ]
    }
   ],
   "source": [
    "i = 0\n",
    "while (i < 5):\n",
    "    print(i)   \n",
    "    break                 #break statement is used to stop the crashing of program due to infinite loop."
   ]
  },
  {
   "cell_type": "code",
   "execution_count": 7,
   "metadata": {},
   "outputs": [
    {
     "name": "stdout",
     "output_type": "stream",
     "text": [
      "0\n",
      "1\n",
      "2\n",
      "3\n",
      "4\n",
      "5\n",
      "6\n",
      "7\n",
      "8\n",
      "9\n",
      "10\n",
      "Reached till 10\n"
     ]
    }
   ],
   "source": [
    "i = 0\n",
    "while (i <= 10):\n",
    "    print(i)\n",
    "    i = i+1\n",
    "print(\"Reached till 10\")"
   ]
  },
  {
   "cell_type": "code",
   "execution_count": 11,
   "metadata": {},
   "outputs": [
    {
     "name": "stdout",
     "output_type": "stream",
     "text": [
      "1\n",
      "2\n",
      "6\n",
      "10\n",
      "15\n"
     ]
    }
   ],
   "source": [
    "#Iterating a list using while loop\n",
    "\n",
    "i = 0\n",
    "list1 = [1, 2, 6, 10, 15]\n",
    "while (i < len(list1)):\n",
    "    print(list1[i])\n",
    "    i = i + 1"
   ]
  },
  {
   "cell_type": "code",
   "execution_count": 15,
   "metadata": {},
   "outputs": [
    {
     "name": "stdout",
     "output_type": "stream",
     "text": [
      "['a', 'b', 'c']\n"
     ]
    }
   ],
   "source": [
    "# To find Duplicates in a list using conditional statements \n",
    "\n",
    "My_List = [ 'a', 'b', 'c', 'd', 'a', 'a', 'b', 'a', 'c', 'b','e', 'f']\n",
    "\n",
    "duplicates = []\n",
    "\n",
    "for values in My_List:\n",
    "    if My_List.count(values) > 1:\n",
    "        if values not in duplicates:\n",
    "            duplicates.append(values)\n",
    "print(duplicates)\n"
   ]
  },
  {
   "cell_type": "code",
   "execution_count": 19,
   "metadata": {},
   "outputs": [],
   "source": [
    "#FUNCTIONS\n",
    "#######################################################################\n",
    "\n"
   ]
  },
  {
   "cell_type": "code",
   "execution_count": null,
   "metadata": {},
   "outputs": [],
   "source": []
  }
 ],
 "metadata": {
  "kernelspec": {
   "display_name": "Python 3",
   "language": "python",
   "name": "python3"
  },
  "language_info": {
   "codemirror_mode": {
    "name": "ipython",
    "version": 3
   },
   "file_extension": ".py",
   "mimetype": "text/x-python",
   "name": "python",
   "nbconvert_exporter": "python",
   "pygments_lexer": "ipython3",
   "version": "3.7.6"
  }
 },
 "nbformat": 4,
 "nbformat_minor": 4
}
