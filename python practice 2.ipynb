{
 "cells": [
  {
   "cell_type": "code",
   "execution_count": 24,
   "metadata": {
    "scrolled": true
   },
   "outputs": [
    {
     "name": "stdout",
     "output_type": "stream",
     "text": [
      "[1, 2, 3]\n",
      "None\n",
      "True\n",
      "True\n",
      "dict_items([('hello', [1, 2, 3]), ('hi', '1,2,3')])\n",
      "False\n",
      "{}\n",
      "2\n",
      "None\n",
      "{'hello': [1, 2, 3], 'hi': '1,2,3', 'hiii': '55'}\n"
     ]
    }
   ],
   "source": [
    "Dictionary = {\"hello\": [1, 2, 3], \"hi\": \"1,2,3\"}\n",
    "print(Dictionary[\"hello\"])\n",
    "print(Dictionary.get('age'))   # get.[] it is used to avoid error when we search a key which is not present in a dictionary.\n",
    "\n",
    "print(\"hello\" in Dictionary.keys())\n",
    "print('1,2,3' in Dictionary.values())\n",
    "print(Dictionary.items())\n",
    "print(\"hello\" in Dictionary.items())\n",
    "\n",
    "Dictionary1 = {\"hello\": [1, 2, 3], \"hi\": \"1,2,3\"}\n",
    "Dictionary1.clear()    #to make a dictionary empty.\n",
    "print(Dictionary1)   \n",
    "\n",
    "print(len(Dictionary))\n",
    "\n",
    "print(Dictionary.update({'hiii': '55'}))   #used to modify a Dictionary\n",
    "print(Dictionary)"
   ]
  },
  {
   "cell_type": "code",
   "execution_count": 34,
   "metadata": {},
   "outputs": [
    {
     "name": "stdout",
     "output_type": "stream",
     "text": [
      "[1, 2, 3, 6, 5]\n",
      "[1, 1, 2, 3, 5, 5, 10, 20, 90, 99, 100]\n",
      "11\n",
      "5\n"
     ]
    }
   ],
   "source": [
    "my_list = [1, 2, 3, 4, 5]\n",
    "my_list[3] = 6\n",
    "print(my_list)\n",
    "\n",
    "my_list2 = [3, 5, 1, 99, 10, 100, 1, 2, 5, 20, 90]\n",
    "my_list2.sort()\n",
    "print(my_list2)\n",
    "length = len(my_list2)\n",
    "print(length)\n",
    "mid = length//2\n",
    "print(mid)"
   ]
  },
  {
   "cell_type": "code",
   "execution_count": 1,
   "metadata": {},
   "outputs": [
    {
     "name": "stdout",
     "output_type": "stream",
     "text": [
      "(1, 2, 3, 4, 5, 5, 3)\n",
      "(1, 2, 3, 4, 5, 5, 3)\n",
      "2\n",
      "2\n"
     ]
    }
   ],
   "source": [
    "my_tuple = (1, 2, 3, 4, 5, 5, 3)\n",
    "print(my_tuple)\n",
    "\n",
    "new_tuple = my_tuple[:]\n",
    "print(new_tuple)\n",
    "\n",
    "print(new_tuple.count(3))\n",
    "print(new_tuple.index(3))"
   ]
  },
  {
   "cell_type": "code",
   "execution_count": 4,
   "metadata": {},
   "outputs": [
    {
     "name": "stdout",
     "output_type": "stream",
     "text": [
      "{1, 2, 3, 4, 5, 6}\n"
     ]
    }
   ],
   "source": [
    "#SETS           importand part\n",
    "\n",
    "my_set = {1, 2, 3, 4, 5}\n",
    "my_set.add(6)\n",
    "print(my_set)\n"
   ]
  },
  {
   "cell_type": "code",
   "execution_count": 23,
   "metadata": {},
   "outputs": [
    {
     "name": "stdout",
     "output_type": "stream",
     "text": [
      "[1, 1, 1, 1, 2, 3, 5, 5, 6, 7, 8, 9, 9]\n",
      "{1, 2, 3, 5, 6, 7, 8, 9}\n",
      "[1, 2, 3, 5, 6, 7, 8, 9]\n"
     ]
    }
   ],
   "source": [
    "#removing the repeating elements present in a list using SETs method.\n",
    "\n",
    "list1 = [1, 1, 3, 2, 5, 1, 9, 8, 7, 6, 5, 1, 9]\n",
    "\n",
    "list1.sort()\n",
    "print(list1)\n",
    "\n",
    "my_set1 = set(list1[:])\n",
    "print(my_set1)\n",
    "\n",
    "print(list(my_set1))"
   ]
  },
  {
   "cell_type": "code",
   "execution_count": 31,
   "metadata": {},
   "outputs": [
    {
     "name": "stdout",
     "output_type": "stream",
     "text": [
      "{1, 2, 3, 4, 5, 6, 7, 8, 9, 10}\n",
      "{1, 2, 3}\n",
      "{4, 5}\n",
      "{4, 5}\n",
      "False\n",
      "{1, 2, 3, 4, 5, 6, 7, 8, 9, 10}\n",
      "None\n",
      "{1, 2, 3}\n"
     ]
    }
   ],
   "source": [
    "my_set3 = {1, 2, 3, 4, 5}\n",
    "your_set = {4, 5, 6, 7, 8, 9, 10}\n",
    "\n",
    "print(my_set.union(your_set))          # .union() is used to join two sets\n",
    "\n",
    "print(my_set.difference(your_set))     # .differenece() prints the difference between set1 and set2.\n",
    "\n",
    "print(my_set.intersection(your_set))   # .intersection()  or \"&\" is used to find the intersection elements.\n",
    "print(my_set & your_set)\n",
    "\n",
    "print(my_set.isdisjoint(your_set))     # used to find whether there the both sets are joint or not\n",
    "\n",
    "print(my_set | your_set)               # | or .union() is used to union the set\n",
    "\n",
    "print(my_set.difference_update(your_set))\n",
    "print(my_set)                                    #it is used to remove the common elements present in set1 or in set2."
   ]
  },
  {
   "cell_type": "code",
   "execution_count": 7,
   "metadata": {},
   "outputs": [
    {
     "name": "stdout",
     "output_type": "stream",
     "text": [
      "True\n"
     ]
    }
   ],
   "source": [
    "set1 = {4, 5}\n",
    "set2 = {4, 5, 6, 7}\n",
    "\n",
    "print(set1.issubset(set2))            # .issubset() is used to check whether the set1 is a subset of set2.\n",
    "\n",
    "            # set2 contains all the elements of set1, so ,superset() is used to check whether the set2 is a superset."
   ]
  },
  {
   "cell_type": "code",
   "execution_count": null,
   "metadata": {},
   "outputs": [],
   "source": []
  }
 ],
 "metadata": {
  "kernelspec": {
   "display_name": "Python 3",
   "language": "python",
   "name": "python3"
  },
  "language_info": {
   "codemirror_mode": {
    "name": "ipython",
    "version": 3
   },
   "file_extension": ".py",
   "mimetype": "text/x-python",
   "name": "python",
   "nbconvert_exporter": "python",
   "pygments_lexer": "ipython3",
   "version": "3.7.6"
  }
 },
 "nbformat": 4,
 "nbformat_minor": 4
}
