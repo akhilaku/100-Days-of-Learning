{
 "cells": [
  {
   "cell_type": "code",
   "execution_count": 6,
   "metadata": {},
   "outputs": [
    {
     "name": "stdout",
     "output_type": "stream",
     "text": [
      "20.0\n"
     ]
    }
   ],
   "source": [
    "# In this Pynb file it consists of variables and Data-Types\n",
    "\n",
    "#assigning variable\n",
    "\n",
    "iq = 100\n",
    "user_age = iq / 5\n",
    "print(user_age)"
   ]
  },
  {
   "cell_type": "code",
   "execution_count": 9,
   "metadata": {},
   "outputs": [
    {
     "name": "stdout",
     "output_type": "stream",
     "text": [
      "8\n",
      "6\n",
      "12\n"
     ]
    }
   ],
   "source": [
    "#augmented assignment operator \n",
    "\n",
    "some_value = 5\n",
    "some_value += 3\n",
    "print(some_value)\n",
    "\n",
    "some_value -= 2\n",
    "print(some_value)\n",
    "\n",
    "some_value = some_value * 2\n",
    "print(some_value)\n"
   ]
  },
  {
   "cell_type": "code",
   "execution_count": 15,
   "metadata": {},
   "outputs": [
    {
     "name": "stdout",
     "output_type": "stream",
     "text": [
      "Hello world\n",
      "Iam Akhil\n",
      "\n",
      "\n",
      "WoW\n",
      "0 0\n",
      "---\n",
      "\n",
      "Akhildas KS\n",
      "<class 'int'>\n"
     ]
    }
   ],
   "source": [
    "#Strings\n",
    "\n",
    "#we can use double or single quatation marks for the single line string.\n",
    "\n",
    "a = \"Hello world\"\n",
    "b = \"Iam Akhil\"\n",
    "\n",
    "#for printing long strings (strings with multiple lines) we use triple quatation marks.\n",
    "\n",
    "long_string = '''\n",
    "\n",
    "WoW\n",
    "0 0\n",
    "---\n",
    "'''\n",
    "\n",
    "print(a)\n",
    "print(b)\n",
    "print(long_string)\n",
    "\n",
    "first_name = \"Akhildas\"\n",
    "last_name = \"KS\"\n",
    "full_name = first_name + ' ' + last_name\n",
    "print(full_name)\n",
    "\n",
    "\n",
    "\n",
    "#String Concatenation\n",
    "\n",
    "#type conversion\n",
    "\n",
    "c = str(100)\n",
    "d = int(c)\n",
    "e = type(d)\n",
    "print(e)"
   ]
  },
  {
   "cell_type": "code",
   "execution_count": 25,
   "metadata": {},
   "outputs": [
    {
     "name": "stdout",
     "output_type": "stream",
     "text": [
      " It's a \"Kind of\" sunny\n",
      " It's a \"Kind of\" sunny \n",
      " have a good day\n"
     ]
    }
   ],
   "source": [
    "#Escape Sequence\n",
    "\n",
    "weather = \" It's a \\\"Kind of\\\" sunny\" #to print sentence with double quotes and single quotes inside it. So we have to separate it with \"\\\".\n",
    "print(weather)\n",
    "\n",
    "#to print a sentence in new line\n",
    "print(weather + ' ' + \"\\n have a good day\")"
   ]
  },
  {
   "cell_type": "code",
   "execution_count": 34,
   "metadata": {},
   "outputs": [
    {
     "name": "stdout",
     "output_type": "stream",
     "text": [
      "hi Akhil you are 21 years old :)\n",
      "hi Akhil you are 21 years old :)\n"
     ]
    }
   ],
   "source": [
    "#Formated String\n",
    "\n",
    "name = \"Akhil\"\n",
    "age = 21\n",
    "print('hi ' + name + ' ' + \"you are \"+ str(age) +' ' + \"years old :)\") #you have to convert int to str while printing.\n",
    "\n",
    "#instead of this long procedure we can do it in simpler way\n",
    "\n",
    "# f denotes it is a formated string.\n",
    "\n",
    "print(f'hi {name} you are {age} years old :)')  #you no need to convert int to str while printing."
   ]
  },
  {
   "cell_type": "code",
   "execution_count": 42,
   "metadata": {},
   "outputs": [
    {
     "name": "stdout",
     "output_type": "stream",
     "text": [
      "AKHIL\n",
      "DAS KS\n",
      "0123456789\n",
      "02468\n",
      "0369\n",
      "9876543210\n"
     ]
    }
   ],
   "source": [
    "#String Indexes\n",
    "name1 = \"AKHILDAS KS\"\n",
    "\n",
    "#Indexes [starting index : Ending Index]\n",
    "\n",
    "print(name1[0:5])\n",
    "print(name1[5:11])\n",
    "\n",
    "#Step over [providing gaps between the indexes.]\n",
    "#that is [starting : ending : gaps]\n",
    "#example\n",
    "\n",
    "name2 = \"0123456789\"\n",
    "print(name2[0:11:1])\n",
    "print(name2[0:11:2])\n",
    "print(name2[0:11:3])\n",
    "\n",
    "# Reversing of string using indexes stepover methode\n",
    "\n",
    "print(name2[::-1]) #leaving the starting and ending point blank and giving the Step Over \"-1\" will give reversed string.\n"
   ]
  },
  {
   "cell_type": "code",
   "execution_count": 43,
   "metadata": {},
   "outputs": [
    {
     "name": "stdout",
     "output_type": "stream",
     "text": [
      "AKHILDAS KS\n"
     ]
    }
   ],
   "source": [
    "#string immutability\n",
    "\n",
    "#strings in python are immutable. once it is declared we cannot change it other than modifying it.\n",
    "\n",
    "#example\n",
    "\n",
    "name3 = \"AKHILDAS\"\n",
    "name3 = name3 + \" KS\"\n",
    "print(name3)"
   ]
  },
  {
   "cell_type": "code",
   "execution_count": 9,
   "metadata": {},
   "outputs": [
    {
     "name": "stdout",
     "output_type": "stream",
     "text": [
      "16\n",
      "HEY HOW ARE YOU?\n",
      "hey how are you?\n",
      "Hey how are you?\n",
      "8\n",
      "hey how is you?\n"
     ]
    }
   ],
   "source": [
    "#Built-in functions\n",
    "\n",
    "#len\n",
    "string1 = \"hey how are you?\"\n",
    "print(len(string1))              #len function is used to find the length of the string\n",
    "\n",
    "#to convert to CAPITAL letters\n",
    "\n",
    "print(string1.upper())\n",
    "\n",
    "#to convert to small letters\n",
    "\n",
    "print(string1.lower())\n",
    "\n",
    "#capitalize this help to capitalize the first letter of the sentence.\n",
    "\n",
    "print(string1.capitalize())\n",
    "\n",
    "#find help to find the letter or word in a string.\n",
    "\n",
    "print(string1.find(\"are\"))\n",
    "\n",
    "#replace helps to replace the term.\n",
    "\n",
    "string1 = string1.replace(\"are\", \"is\")\n",
    "\n",
    "print(string1)"
   ]
  },
  {
   "cell_type": "code",
   "execution_count": 13,
   "metadata": {},
   "outputs": [
    {
     "name": "stdout",
     "output_type": "stream",
     "text": [
      "Enter your birth year:1999\n",
      "Your birth year is 1999\n",
      "your age is 21\n"
     ]
    }
   ],
   "source": [
    "#Exercise\n",
    "\n",
    "birth_year = int(input(\"Enter your birth year:\"))\n",
    "print(f\"Your birth year is {birth_year}\")\n",
    "\n",
    "age = 2020 - birth_year\n",
    "\n",
    "print(f\"your age is {age}\")"
   ]
  },
  {
   "cell_type": "code",
   "execution_count": 1,
   "metadata": {},
   "outputs": [
    {
     "name": "stdout",
     "output_type": "stream",
     "text": [
      "Enter the user name : akhilaku\n",
      "Enter the password :AkhilDKS\n",
      "Hey akhilaku your password ******** is 8 long\n"
     ]
    }
   ],
   "source": [
    "#Exercise Password Checker\n",
    "\n",
    "#username = str(input(\"Enter your username : \"))\n",
    "#password = str(input(\"Enter your password : \"))\n",
    "\n",
    "#length = len(password)\n",
    "#numbers = length * \"*\"\n",
    "\n",
    "#print(f\"Hey {username} your password {numbers} is {length} digits long\")\n",
    "\n",
    "\n",
    "#practising it again\n",
    "\n",
    "Username = str(input(\"Enter the user name : \"))\n",
    "Password = str(input(\"Enter the password :\"))\n",
    "length_of_password = len(Password)\n",
    "number_of_digit = length_of_password * \"*\"\n",
    "print(f\"Hey {Username} your password {number_of_digit} is {length_of_password} digits long\")"
   ]
  },
  {
   "cell_type": "code",
   "execution_count": 3,
   "metadata": {},
   "outputs": [
    {
     "name": "stdout",
     "output_type": "stream",
     "text": [
      "[1, 2, 3, 4, 5]\n",
      "['a', 'b', 'c', 'd', 'e']\n",
      "[1, 2, 3, 'akhil', True, 'akkhi']\n",
      "4\n",
      "e\n",
      "[1, 2, 3, 'akhil', True, 'akkhi']\n"
     ]
    }
   ],
   "source": [
    "#Lists - it is an ordered sequence of objects.\n",
    "\n",
    "#Examples:\n",
    "\n",
    "list1 = [1, 2, 3, 4, 5]\n",
    "print(list1)\n",
    "\n",
    "list2 = ['a', 'b', 'c', 'd', 'e']\n",
    "print(list2)\n",
    "\n",
    "list3 = [1, 2, 3, \"akhil\", True, \"akkhi\"] #even boolean can be printed if it is inside an list\n",
    "print(list3)\n",
    "    \n",
    "print(list1[3])\n",
    "print(list2[4])\n",
    "print(list3[0:]) #we can print or access an elements in a list using indexes.\n"
   ]
  },
  {
   "cell_type": "code",
   "execution_count": 1,
   "metadata": {},
   "outputs": [
    {
     "name": "stdout",
     "output_type": "stream",
     "text": [
      "['books', 'sunglasses', 'toys', 'gadgets', 'perfumes', 'mens wears', 'pulses']\n",
      "['books', 'sunglasses', 'toys']\n",
      "['books', 'toys', 'perfumes', 'pulses']\n",
      "['laptops', 'sunglasses', 'toys', 'gadgets', 'perfumes', 'mens wears', 'pulses']\n",
      "['laptops', 'sunglasses', 'toys', 'gadgets', 'perfumes', 'mens wears', 'pulses']\n",
      "['laptops', 'sunglasses', 'Avengers Toys', 'gadgets', 'perfumes', 'mens wears', 'pulses']\n",
      "['laptops', 'sunglasses', 'Avengers Toys', 'gadgets', 'games', 'perfumes', 'mens wears', 'pulses']\n"
     ]
    }
   ],
   "source": [
    "#List Slicing \n",
    "\n",
    "amazon = [\"books\", \"sunglasses\", \"toys\", \"gadgets\", \"perfumes\", \"mens wears\", \"pulses\"]\n",
    "\n",
    "print(amazon)\n",
    "print(amazon[0:3])\n",
    "print(amazon[::2])\n",
    "\n",
    "#Lists are mutable.\n",
    "\n",
    "#let us replace the \"books\" with \"laptops\"\n",
    "\n",
    "amazon[0] = \"laptops\"\n",
    "print(amazon)          #it will replace books by laptops.\n",
    "\n",
    "#Creating a new List from an another list.\n",
    "\n",
    "new_amazon = amazon[:]   \n",
    "new_amazon[2] = \"Avengers Toys\"\n",
    "print(amazon)\n",
    "print(new_amazon)\n",
    "new_amazon.insert(4, 'games')    # 'games' will added after the 4th position.\n",
    "print(new_amazon)"
   ]
  },
  {
   "cell_type": "code",
   "execution_count": 33,
   "metadata": {},
   "outputs": [
    {
     "name": "stdout",
     "output_type": "stream",
     "text": [
      "[[1, 2, 3], [3, 5, 9], [10, 0, 1]]\n",
      "3\n"
     ]
    }
   ],
   "source": [
    "#Matrix\n",
    "\n",
    "matrix1 = [\n",
    "    [1, 2, 3],\n",
    "    [3, 5, 9],\n",
    "    [10, 0, 1]\n",
    "]\n",
    "\n",
    "print(matrix1)\n",
    "print(matrix1[0][2]) #in this [0] index denotes the 1st row ie. [1, 2, 3] and [2 denotes the 2nd element in it ie. 3]"
   ]
  },
  {
   "cell_type": "code",
   "execution_count": 2,
   "metadata": {},
   "outputs": [
    {
     "name": "stdout",
     "output_type": "stream",
     "text": [
      "[1, 24, 23, 4, 26]\n",
      "[1, 24, 23, 4, 26, 100]\n",
      "[1, 24, 23, 4, 26, 100, 6]\n",
      "[1, 24, 23, 4, 26, 100, 6, 101, 102]\n",
      "[1, 24, 23, 4, 26, 100, 6, 101]\n",
      "[1, 24, 4, 26, 100, 6, 101]\n",
      "[1, 24, 4, 26, 1999, 100, 6, 101]\n",
      "[1, 24, 4, 26, 1999, 100, 7, 6, 101]\n",
      "[]\n"
     ]
    }
   ],
   "source": [
    "# Methods in Lists\n",
    "\n",
    "# append() it is used to add an object into an list or array.\n",
    "\n",
    "mylist = [1, 24, 23, 4, 26]\n",
    "print(mylist)\n",
    "\n",
    "mylist.append(100)\n",
    "print(mylist)\n",
    "\n",
    "\n",
    "\n",
    "# insert() it is used to insert a object to any place in a list or array.\n",
    "\n",
    "mylist.insert(23, 6)  #inserting a new object 6 after 1.\n",
    "print(mylist)\n",
    "\n",
    "\n",
    "\n",
    "# extend() it is used to extend a list.\n",
    "\n",
    "mylist.extend([101, 102]) \n",
    "print(mylist)\n",
    "\n",
    "\n",
    "\n",
    "# remove() and pop()\n",
    "\n",
    "#for removing an element from a list we use pop().\n",
    "\n",
    "mylist.pop()   #it will remove the last object from the list (or) we can give the index of the element which to be removed.\n",
    "print(mylist)\n",
    "\n",
    "mylist.remove(23) # remove() will remove the object which we want to remove from our list without using the index.\n",
    "print(mylist)\n",
    "\n",
    "\n",
    "mylist.insert(4,1999)\n",
    "print(mylist)\n",
    "\n",
    "mylist.insert(6,7)\n",
    "print(mylist)\n",
    "# Clear() \n",
    "# it will remove everything inside a list.\n",
    "\n",
    "mylist.clear()\n",
    "print(mylist)\n",
    "\n",
    "\n",
    "\n"
   ]
  },
  {
   "cell_type": "code",
   "execution_count": 6,
   "metadata": {},
   "outputs": [
    {
     "name": "stdout",
     "output_type": "stream",
     "text": [
      "2\n",
      "True\n",
      "False\n"
     ]
    }
   ],
   "source": [
    "# List Methods\n",
    "\n",
    "#list Index - it is used to find the index of an element in a list.\n",
    "\n",
    "list5 = ['books', 'sunglasses', 'toys', 'gadgets', 'perfumes']\n",
    "print(list5.index('toys'))\n",
    "\n",
    "# IN keyword.\n",
    "\n",
    "print('sunglasses' in list5)  #if the sunglasses is present in list5 it will print TRUE\n",
    "print('Apple' in list5) "
   ]
  },
  {
   "cell_type": "code",
   "execution_count": 16,
   "metadata": {},
   "outputs": [
    {
     "name": "stdout",
     "output_type": "stream",
     "text": [
      "5\n",
      "[1, 1, 1, 1, 1, 2, 2, 2, 3, 3, 5]\n",
      "[5, 3, 3, 2, 2, 2, 1, 1, 1, 1, 1]\n",
      "[5, 3, 3, 2, 2, 2, 1, 1, 1, 1, 1]\n"
     ]
    }
   ],
   "source": [
    "# Count()\n",
    "\n",
    "list6 = [1, 2, 3, 1, 2, 1, 1, 2, 3, 5, 1]\n",
    "\n",
    "print(list6.count(1))  #it will count how many \"1\" is present in the list.\n",
    "\n",
    "# Sort() it helps to sort the list\n",
    "\n",
    "list6.sort()\n",
    "print(list6)\n",
    "\n",
    "# Reversing the lists\n",
    "print(list6[::-1]) \n",
    "#or\n",
    "list6.reverse()\n",
    "print(list6)"
   ]
  },
  {
   "cell_type": "code",
   "execution_count": 6,
   "metadata": {},
   "outputs": [
    {
     "name": "stdout",
     "output_type": "stream",
     "text": [
      "[0, 1, 2, 3, 4, 5, 6, 7, 8, 9, 10, 11, 12, 13, 14, 15, 16, 17, 18, 19]\n"
     ]
    }
   ],
   "source": [
    "# Creating a list with range()   eg... range(start, n-1).\n",
    "\n",
    "\n",
    "list7 = list(range(0, 20))   \n",
    "print(list7)"
   ]
  },
  {
   "cell_type": "code",
   "execution_count": 8,
   "metadata": {},
   "outputs": [
    {
     "name": "stdout",
     "output_type": "stream",
     "text": [
      "hey how are you doing?\n"
     ]
    }
   ],
   "source": [
    "# Converting a list into a String.\n",
    "\n",
    "list8 = ['hey', 'how', 'are', 'you', 'doing?']\n",
    "print( ' '.join(list8))                            # ' '.join(list_name) will help to convert a list into string."
   ]
  },
  {
   "cell_type": "code",
   "execution_count": 15,
   "metadata": {},
   "outputs": [
    {
     "name": "stdout",
     "output_type": "stream",
     "text": [
      "hey\n",
      "how\n",
      "are\n",
      "you\n",
      "doing?\n",
      "<-------------------------------------------------------------------------->\n",
      "hey\n",
      "how\n",
      "['are', 'you', 'doing?']\n",
      "<------------------------------------------------------------------------->\n",
      "hey\n",
      "how\n",
      "['are', 'you']\n",
      "doing?\n"
     ]
    }
   ],
   "source": [
    "#List Unpacking    this is used to assign variables for the elements present in the list.\n",
    "\n",
    "a,b,c,d,e = ['hey', 'how', 'are', 'you', 'doing?']\n",
    "print(a)\n",
    "print(b)\n",
    "print(c)\n",
    "print(d)\n",
    "print(e)\n",
    "\n",
    "#just printing the required variables and keeping others in the list itself\n",
    "print(\"<-------------------------------------------------------------------------->\")\n",
    "\n",
    "a,b, *others = ['hey', 'how', 'are', 'you', 'doing?']     #a,b,c,  then giving a space then adding a '*' and giving a variable name will print the other remaining variables as a list itself.\n",
    "print(a)\n",
    "print(b)\n",
    "\n",
    "print(others)\n",
    "\n",
    "print(\"<------------------------------------------------------------------------->\")\n",
    "\n",
    "a,b, *others,d  = ['hey', 'how', 'are', 'you', 'doing?'] \n",
    "print(a)\n",
    "print(b)\n",
    "print(others)\n",
    "print(d)"
   ]
  },
  {
   "cell_type": "code",
   "execution_count": 5,
   "metadata": {},
   "outputs": [
    {
     "name": "stdout",
     "output_type": "stream",
     "text": [
      "{'a': [1, 2, 3, 4], 'b': True, 'c': 3, 'd': 4, 'e': 5}\n",
      "True\n",
      "<-------------------------------------------------->\n",
      "Dictionary is a UnOrdered data collection\n",
      "{'a': [1, 2, 3], 'b': 'Stringsss', 'c': True}\n"
     ]
    }
   ],
   "source": [
    "# Dictionaries or dict or {\"key\" : value}\n",
    "\n",
    "dictionary = {\"a\": 1, \"b\": 2, \"c\": 3, \"d\": 4, \"e\":5 }\n",
    "print(dictionary)\n",
    "print(dictionary['d'] )                                 \n",
    "\n",
    "print(\"<-------------------------------------------------->\")\n",
    "\n",
    "print(\"Dictionary is a UnOrdered data collection\")\n",
    "\n",
    "dictionary2 = {\"a\" : [1,2,3], \"b\" : \"Stringsss\", \"c\" : True}  #Dictionary consists of all types of data types\n",
    "print(dictionary2)"
   ]
  },
  {
   "cell_type": "code",
   "execution_count": null,
   "metadata": {},
   "outputs": [],
   "source": []
  }
 ],
 "metadata": {
  "kernelspec": {
   "display_name": "Python 3",
   "language": "python",
   "name": "python3"
  },
  "language_info": {
   "codemirror_mode": {
    "name": "ipython",
    "version": 3
   },
   "file_extension": ".py",
   "mimetype": "text/x-python",
   "name": "python",
   "nbconvert_exporter": "python",
   "pygments_lexer": "ipython3",
   "version": "3.7.6"
  }
 },
 "nbformat": 4,
 "nbformat_minor": 4
}
