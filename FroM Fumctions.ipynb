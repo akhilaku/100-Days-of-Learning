{
 "cells": [
  {
   "cell_type": "code",
   "execution_count": 19,
   "metadata": {},
   "outputs": [
    {
     "name": "stdout",
     "output_type": "stream",
     "text": [
      "Hello world\n",
      "Hello world\n"
     ]
    }
   ],
   "source": [
    "def say_hello():\n",
    "    print(\"Hello world\")\n",
    "say_hello()                  #You can repeat this fuction by typing say_hello() anywhere in the program without repeating the whole code.\n",
    "say_hello()"
   ]
  },
  {
   "cell_type": "code",
   "execution_count": 6,
   "metadata": {},
   "outputs": [
    {
     "name": "stdout",
     "output_type": "stream",
     "text": [
      "my name is Akhildas KS, and im so Happy\n",
      "my name is Ajay, and im so Sad\n",
      "my name is Akhil, and im so Anger\n"
     ]
    }
   ],
   "source": [
    "# PARAMETERS AND ARGUMENTS     #\"\"\"\"\"\"\"\"\"\"\"\"\"\"\"\"\"\"\"\"\"\"\"\"\"\"IMPORTANT\"\"\"\"\"\"\"\"\"\"\"\"\"\"\"\"\"\"\"\"\"\"\"''\"\"\"\n",
    "\n",
    "\n",
    "#parameters\n",
    "def show_all(name, emoji):           #parameters are giving the variables names inside the def function(variables name)\n",
    "    print(f\"my name is {name}, and im so {emoji}\") \n",
    "    \n",
    "#Arguments \n",
    "\n",
    "show_all(\"Akhildas KS\", \"Happy\")    #Arguments are providing the value for the parameter variables in calling function.\n",
    "show_all(\"Ajay\", \"Sad\") \n",
    "show_all(\"Akhil\", \"Anger\") "
   ]
  },
  {
   "cell_type": "code",
   "execution_count": 12,
   "metadata": {},
   "outputs": [
    {
     "name": "stdout",
     "output_type": "stream",
     "text": [
      "value of a is : 5\n",
      "value of b is : 6\n",
      "So 5 + 6 = 11\n"
     ]
    }
   ],
   "source": [
    "# example using positional parameters and arguments.\n",
    "\n",
    "def addition(a, b, c):\n",
    "    c = a + b\n",
    "    print(f\"value of a is : {a}\")\n",
    "    print(f\"value of b is : {b}\")\n",
    "    print(f\"So {a} + {b} = {c}\")\n",
    "addition(5, 6, 0)\n"
   ]
  },
  {
   "cell_type": "code",
   "execution_count": 13,
   "metadata": {},
   "outputs": [
    {
     "name": "stdout",
     "output_type": "stream",
     "text": [
      "11\n"
     ]
    }
   ],
   "source": [
    "# Default PARAMETERS AND KEYWORD ARGUMENTS\n",
    "\n",
    "# this is used to assign the variable values inside the parameters itself\n",
    "\n",
    "def adding(a = 5, b = 6, c = 0):          # In this we have assigned variable values inside parameters itself.\n",
    "    c = a + b\n",
    "    print(c)\n",
    "adding()"
   ]
  },
  {
   "cell_type": "code",
   "execution_count": 27,
   "metadata": {},
   "outputs": [
    {
     "data": {
      "text/plain": [
       "67"
      ]
     },
     "execution_count": 27,
     "metadata": {},
     "output_type": "execute_result"
    }
   ],
   "source": [
    "# RETURN ()\n",
    "\n",
    "def substract( num1 , num2, num3):\n",
    "    num3 = num1 - num2 \n",
    "    return(num3)\n",
    "substract(100, 45, 0)\n",
    "\n",
    "\n",
    "def substracting( num5 = 100 , num6 = 33, num7 = 0):      #using default parameters\n",
    "    num7 = num5 - num6 \n",
    "    return(num7)\n",
    "substracting()\n"
   ]
  },
  {
   "cell_type": "code",
   "execution_count": 34,
   "metadata": {},
   "outputs": [
    {
     "name": "stdout",
     "output_type": "stream",
     "text": [
      "The result of 100 - 25 is :\n"
     ]
    },
    {
     "data": {
      "text/plain": [
       "75"
      ]
     },
     "execution_count": 34,
     "metadata": {},
     "output_type": "execute_result"
    }
   ],
   "source": [
    "def substracttt(number1 = 100, number2 = 25):\n",
    "    print(f\"The result of {number1} - {number2} is :\")\n",
    "    return(number1 - number2)\n",
    "substracttt()"
   ]
  },
  {
   "cell_type": "code",
   "execution_count": 59,
   "metadata": {},
   "outputs": [
    {
     "name": "stdout",
     "output_type": "stream",
     "text": [
      "The result of 100 - 25 is : 75\n"
     ]
    }
   ],
   "source": [
    "def substracttt(number1 = 100, number2 = 25):\n",
    "    number3 = number1 - number2\n",
    "    return(print(f\"The result of {number1} - {number2} is : {number3}\"))\n",
    "substracttt()"
   ]
  },
  {
   "cell_type": "code",
   "execution_count": 70,
   "metadata": {},
   "outputs": [
    {
     "name": "stdout",
     "output_type": "stream",
     "text": [
      "The result of 100 - 25 is : 75\n",
      "Help on function substracttt in module __main__:\n",
      "\n",
      "substracttt(number1=100, number2=25)\n",
      "    This function is used to do substraction 2 numbers ie, number1 and number2\n",
      "\n",
      "\n",
      "    \n",
      "    This function is used to do substraction 2 numbers ie, number1 and number2\n",
      "    \n",
      "    \n"
     ]
    }
   ],
   "source": [
    "# DOCSTRINGS     this are used to add comments inside the functions9()\n",
    "\n",
    "def substracttt(number1 = 100, number2 = 25):\n",
    "    \n",
    "    '''\n",
    "    \n",
    "    This function is used to do substraction 2 numbers ie, number1 and number2\n",
    "    \n",
    "    '''\n",
    "    number3 = number1 - number2\n",
    "    return(print(f\"The result of {number1} - {number2} is : {number3}\"))\n",
    "substracttt()\n",
    "\n",
    "help(substracttt)           #this fuction will give the information of string provided by the user in DOCSTRING\n",
    "print(substracttt.__doc__)  #      '''            '''                       '''                          '''"
   ]
  },
  {
   "cell_type": "code",
   "execution_count": 1,
   "metadata": {},
   "outputs": [
    {
     "ename": "TypeError",
     "evalue": "super_function() takes 1 positional argument but 5 were given",
     "output_type": "error",
     "traceback": [
      "\u001b[1;31m---------------------------------------------------------------------------\u001b[0m",
      "\u001b[1;31mTypeError\u001b[0m                                 Traceback (most recent call last)",
      "\u001b[1;32m<ipython-input-1-b6e450e85e3d>\u001b[0m in \u001b[0;36m<module>\u001b[1;34m\u001b[0m\n\u001b[0;32m      3\u001b[0m \u001b[1;32mdef\u001b[0m \u001b[0msuper_function\u001b[0m\u001b[1;33m(\u001b[0m\u001b[0margs\u001b[0m\u001b[1;33m)\u001b[0m\u001b[1;33m:\u001b[0m\u001b[1;33m\u001b[0m\u001b[1;33m\u001b[0m\u001b[0m\n\u001b[0;32m      4\u001b[0m     \u001b[1;32mreturn\u001b[0m \u001b[0msum\u001b[0m\u001b[1;33m(\u001b[0m\u001b[0margs\u001b[0m\u001b[1;33m)\u001b[0m               \u001b[1;31m# sum() is an inbuilt python function to perform addition\u001b[0m\u001b[1;33m\u001b[0m\u001b[1;33m\u001b[0m\u001b[0m\n\u001b[1;32m----> 5\u001b[1;33m \u001b[0msuper_function\u001b[0m\u001b[1;33m(\u001b[0m\u001b[1;36m1\u001b[0m\u001b[1;33m,\u001b[0m \u001b[1;36m2\u001b[0m\u001b[1;33m,\u001b[0m \u001b[1;36m3\u001b[0m\u001b[1;33m,\u001b[0m \u001b[1;36m4\u001b[0m\u001b[1;33m,\u001b[0m \u001b[1;36m5\u001b[0m\u001b[1;33m)\u001b[0m\u001b[1;33m\u001b[0m\u001b[1;33m\u001b[0m\u001b[0m\n\u001b[0m\u001b[0;32m      6\u001b[0m \u001b[1;33m\u001b[0m\u001b[0m\n\u001b[0;32m      7\u001b[0m \u001b[1;31m#This program will show error\u001b[0m\u001b[1;33m\u001b[0m\u001b[1;33m\u001b[0m\u001b[1;33m\u001b[0m\u001b[0m\n",
      "\u001b[1;31mTypeError\u001b[0m: super_function() takes 1 positional argument but 5 were given"
     ]
    }
   ],
   "source": [
    "# Arguments(*args) and Keyword Arguments (**kwargs)\n",
    "\n",
    "def super_function(args):\n",
    "    return sum(args)               # sum() is an inbuilt python function to perform addition\n",
    "super_function(1, 2, 3, 4, 5)       \n",
    "\n",
    "#This program will show error"
   ]
  },
  {
   "cell_type": "code",
   "execution_count": 3,
   "metadata": {},
   "outputs": [
    {
     "name": "stdout",
     "output_type": "stream",
     "text": [
      "(1, 2, 3, 4, 5)\n"
     ]
    },
    {
     "data": {
      "text/plain": [
       "15"
      ]
     },
     "execution_count": 3,
     "metadata": {},
     "output_type": "execute_result"
    }
   ],
   "source": [
    "#For avoiding thsi error we use *args\n",
    "\n",
    "def super_function(*args):\n",
    "    print(args)\n",
    "    return sum(args)               # sum() is an inbuilt python function to perform addition\n",
    "super_function(1, 2, 3, 4, 5)       \n",
    "\n",
    "#This program will show error"
   ]
  },
  {
   "cell_type": "code",
   "execution_count": 4,
   "metadata": {},
   "outputs": [
    {
     "name": "stdout",
     "output_type": "stream",
     "text": [
      "(1, 2, 3, 4, 5)\n"
     ]
    },
    {
     "data": {
      "text/plain": [
       "15"
      ]
     },
     "execution_count": 4,
     "metadata": {},
     "output_type": "execute_result"
    }
   ],
   "source": [
    "# ve can give any names for the *args. they are nothing but variables\n",
    "\n",
    "def super_function(*variables):\n",
    "    print(variables)\n",
    "    return sum(variables)               # sum() is an inbuilt python function to perform addition\n",
    "super_function(1, 2, 3, 4, 5) "
   ]
  },
  {
   "cell_type": "code",
   "execution_count": 28,
   "metadata": {},
   "outputs": [
    {
     "name": "stdout",
     "output_type": "stream",
     "text": [
      "30\n"
     ]
    }
   ],
   "source": [
    "### **kwargs  - Key Word ARGuments\n",
    "\n",
    "\n",
    "def a_function(*args, **kwargs):\n",
    "    total = 0                     #just assigning a emty variable\n",
    "    for i in kwargs.values():\n",
    "        total += i\n",
    "    return sum(args) + total\n",
    "print(a_function(1,2,3,4,5, num1 = 5, num2 = 10))   # elements separated by commas are *args and elements with variable are **kwargs\n",
    "\n",
    "# In this problem"
   ]
  },
  {
   "cell_type": "code",
   "execution_count": 31,
   "metadata": {},
   "outputs": [
    {
     "name": "stdout",
     "output_type": "stream",
     "text": [
      "[2, 8, 10]\n"
     ]
    },
    {
     "data": {
      "text/plain": [
       "10"
      ]
     },
     "execution_count": 31,
     "metadata": {},
     "output_type": "execute_result"
    }
   ],
   "source": [
    "#Exercise 87\n",
    "# To find the highest even number from a given unsorted odd, even list.\n",
    "\n",
    "def highest_even():\n",
    "    list1 = [2, 3, 11, 8, 10, 1]\n",
    "    evens = []\n",
    "    for i in list1:\n",
    "        if i % 2 == 0:\n",
    "            evens.append(i)\n",
    "    print(evens)\n",
    "    return max(evens)                  # it will return the maximum(highest) even values in a list.\n",
    "highest_even()\n",
    "                "
   ]
  },
  {
   "cell_type": "code",
   "execution_count": null,
   "metadata": {},
   "outputs": [],
   "source": [
    "def finding_even():\n",
    "    list2 = [34, 32, 11, 15, 17, 13, 10, 52]\n",
    "    even = []\n",
    "    for i in list2:\n",
    "        if i % 2 == 0:\n",
    "            even.append(i)\n",
    "    print(even)\n",
    "    return max(even)\n",
    "finding_even()"
   ]
  },
  {
   "cell_type": "code",
   "execution_count": null,
   "metadata": {},
   "outputs": [],
   "source": []
  },
  {
   "cell_type": "code",
   "execution_count": null,
   "metadata": {},
   "outputs": [],
   "source": []
  }
 ],
 "metadata": {
  "kernelspec": {
   "display_name": "Python 3",
   "language": "python",
   "name": "python3"
  },
  "language_info": {
   "codemirror_mode": {
    "name": "ipython",
    "version": 3
   },
   "file_extension": ".py",
   "mimetype": "text/x-python",
   "name": "python",
   "nbconvert_exporter": "python",
   "pygments_lexer": "ipython3",
   "version": "3.7.6"
  }
 },
 "nbformat": 4,
 "nbformat_minor": 4
}
